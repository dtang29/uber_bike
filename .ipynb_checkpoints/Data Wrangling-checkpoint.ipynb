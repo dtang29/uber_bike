{
 "cells": [
  {
   "cell_type": "code",
   "execution_count": 58,
   "metadata": {},
   "outputs": [],
   "source": [
    "#dependencies\n",
    "import pandas as pd\n",
    "import numpy as np\n",
    "import os"
   ]
  },
  {
   "cell_type": "code",
   "execution_count": 59,
   "metadata": {},
   "outputs": [
    {
     "name": "stderr",
     "output_type": "stream",
     "text": [
      "/Users/danieltang/anaconda3/envs/PythonData/lib/python3.6/site-packages/IPython/core/interactiveshell.py:2728: DtypeWarning: Columns (0) have mixed types. Specify dtype option on import or set low_memory=False.\n",
      "  interactivity=interactivity, compiler=compiler, result=result)\n"
     ]
    },
    {
     "data": {
      "text/plain": [
       "array([['431032', 1648, '8/29/2014 15:33', ..., 411, 'Subscriber',\n",
       "        '94107'],\n",
       "       ['383548', 617, '7/28/2014 17:35', ..., 259, 'Subscriber',\n",
       "        '94403'],\n",
       "       ['257887', 551, '4/22/2014 19:19', ..., 414, 'Subscriber',\n",
       "        '94105'],\n",
       "       ...,\n",
       "       [324829, 1807, '6/15/2014 12:08', ..., 379, 'Customer', '94041'],\n",
       "       [266083, 522, '4/30/2014 8:35', ..., 347, 'Subscriber', '94111'],\n",
       "       [367598, 255, '7/17/2014 8:22', ..., 592, 'Subscriber', '94939']],\n",
       "      dtype=object)"
      ]
     },
     "execution_count": 59,
     "metadata": {},
     "output_type": "execute_result"
    }
   ],
   "source": [
    "#Set path\n",
    "uber_bike_path = os.path.join('uber_bike_data.csv')\n",
    "\n",
    "#Read in csv file as dataframe\n",
    "uber_df = pd.read_csv(uber_bike_path)\n",
    "\n",
    "#List of columns\n",
    "uber_df.values"
   ]
  },
  {
   "cell_type": "code",
   "execution_count": 60,
   "metadata": {},
   "outputs": [
    {
     "data": {
      "text/plain": [
       "90231"
      ]
     },
     "execution_count": 60,
     "metadata": {},
     "output_type": "execute_result"
    }
   ],
   "source": [
    "len(uber_df)"
   ]
  },
  {
   "cell_type": "code",
   "execution_count": 61,
   "metadata": {},
   "outputs": [
    {
     "data": {
      "text/html": [
       "<div>\n",
       "<style scoped>\n",
       "    .dataframe tbody tr th:only-of-type {\n",
       "        vertical-align: middle;\n",
       "    }\n",
       "\n",
       "    .dataframe tbody tr th {\n",
       "        vertical-align: top;\n",
       "    }\n",
       "\n",
       "    .dataframe thead th {\n",
       "        text-align: right;\n",
       "    }\n",
       "</style>\n",
       "<table border=\"1\" class=\"dataframe\">\n",
       "  <thead>\n",
       "    <tr style=\"text-align: right;\">\n",
       "      <th></th>\n",
       "      <th>Trip ID</th>\n",
       "      <th>Duration</th>\n",
       "      <th>Start Date</th>\n",
       "      <th>Start Station</th>\n",
       "      <th>Start Terminal</th>\n",
       "      <th>End Date</th>\n",
       "      <th>End Station</th>\n",
       "      <th>End Terminal</th>\n",
       "      <th>Bike #</th>\n",
       "      <th>Subscriber Type</th>\n",
       "      <th>Zip Code</th>\n",
       "    </tr>\n",
       "  </thead>\n",
       "  <tbody>\n",
       "    <tr>\n",
       "      <th>0</th>\n",
       "      <td>431032</td>\n",
       "      <td>1648</td>\n",
       "      <td>8/29/2014 15:33</td>\n",
       "      <td>Steuart at Market</td>\n",
       "      <td>74</td>\n",
       "      <td>8/29/2014 16:00</td>\n",
       "      <td>San Francisco Caltrain (Townsend at 4th)</td>\n",
       "      <td>70</td>\n",
       "      <td>411</td>\n",
       "      <td>Subscriber</td>\n",
       "      <td>94107</td>\n",
       "    </tr>\n",
       "    <tr>\n",
       "      <th>1</th>\n",
       "      <td>383548</td>\n",
       "      <td>617</td>\n",
       "      <td>7/28/2014 17:35</td>\n",
       "      <td>Steuart at Market</td>\n",
       "      <td>74</td>\n",
       "      <td>7/28/2014 17:45</td>\n",
       "      <td>San Francisco Caltrain (Townsend at 4th)</td>\n",
       "      <td>70</td>\n",
       "      <td>259</td>\n",
       "      <td>Subscriber</td>\n",
       "      <td>94403</td>\n",
       "    </tr>\n",
       "    <tr>\n",
       "      <th>2</th>\n",
       "      <td>257887</td>\n",
       "      <td>551</td>\n",
       "      <td>4/22/2014 19:19</td>\n",
       "      <td>Post at Kearny</td>\n",
       "      <td>47</td>\n",
       "      <td>4/22/2014 19:28</td>\n",
       "      <td>South Van Ness at Market</td>\n",
       "      <td>66</td>\n",
       "      <td>414</td>\n",
       "      <td>Subscriber</td>\n",
       "      <td>94105</td>\n",
       "    </tr>\n",
       "    <tr>\n",
       "      <th>3</th>\n",
       "      <td>334581</td>\n",
       "      <td>327</td>\n",
       "      <td>6/22/2014 19:36</td>\n",
       "      <td>5th at Howard</td>\n",
       "      <td>57</td>\n",
       "      <td>6/22/2014 19:42</td>\n",
       "      <td>2nd at Folsom</td>\n",
       "      <td>62</td>\n",
       "      <td>553</td>\n",
       "      <td>Subscriber</td>\n",
       "      <td>94103</td>\n",
       "    </tr>\n",
       "    <tr>\n",
       "      <th>4</th>\n",
       "      <td>268757</td>\n",
       "      <td>382</td>\n",
       "      <td>5/1/2014 19:37</td>\n",
       "      <td>Clay at Battery</td>\n",
       "      <td>41</td>\n",
       "      <td>5/1/2014 19:44</td>\n",
       "      <td>Market at 4th</td>\n",
       "      <td>76</td>\n",
       "      <td>501</td>\n",
       "      <td>Subscriber</td>\n",
       "      <td>94612</td>\n",
       "    </tr>\n",
       "  </tbody>\n",
       "</table>\n",
       "</div>"
      ],
      "text/plain": [
       "  Trip ID  Duration       Start Date      Start Station  Start Terminal  \\\n",
       "0  431032      1648  8/29/2014 15:33  Steuart at Market              74   \n",
       "1  383548       617  7/28/2014 17:35  Steuart at Market              74   \n",
       "2  257887       551  4/22/2014 19:19     Post at Kearny              47   \n",
       "3  334581       327  6/22/2014 19:36      5th at Howard              57   \n",
       "4  268757       382   5/1/2014 19:37    Clay at Battery              41   \n",
       "\n",
       "          End Date                               End Station  End Terminal  \\\n",
       "0  8/29/2014 16:00  San Francisco Caltrain (Townsend at 4th)            70   \n",
       "1  7/28/2014 17:45  San Francisco Caltrain (Townsend at 4th)            70   \n",
       "2  4/22/2014 19:28                  South Van Ness at Market            66   \n",
       "3  6/22/2014 19:42                             2nd at Folsom            62   \n",
       "4   5/1/2014 19:44                             Market at 4th            76   \n",
       "\n",
       "   Bike # Subscriber Type Zip Code  \n",
       "0     411      Subscriber    94107  \n",
       "1     259      Subscriber    94403  \n",
       "2     414      Subscriber    94105  \n",
       "3     553      Subscriber    94103  \n",
       "4     501      Subscriber    94612  "
      ]
     },
     "execution_count": 61,
     "metadata": {},
     "output_type": "execute_result"
    }
   ],
   "source": [
    "uber_df.head(5)"
   ]
  },
  {
   "cell_type": "code",
   "execution_count": 62,
   "metadata": {},
   "outputs": [],
   "source": [
    "#rename the columns and remove whitespaces\n",
    "uber_df = uber_df.rename(columns={'Trip ID': 'trip_id', 'Duration': 'duration', 'Start Date': 'start_date', \n",
    "                                 'Start Station': 'start_station', 'Start Terminal': 'start_terminal', \n",
    "                                 'End Date': 'end_date', 'End Station': 'end_station', 'End Terminal': 'end_terminal',\n",
    "                                 'Bike #': 'bike_num', 'Subscriber Type': 'subscriber_type', 'Zip Code': 'zip_code'})"
   ]
  },
  {
   "cell_type": "code",
   "execution_count": 63,
   "metadata": {},
   "outputs": [
    {
     "data": {
      "text/html": [
       "<div>\n",
       "<style scoped>\n",
       "    .dataframe tbody tr th:only-of-type {\n",
       "        vertical-align: middle;\n",
       "    }\n",
       "\n",
       "    .dataframe tbody tr th {\n",
       "        vertical-align: top;\n",
       "    }\n",
       "\n",
       "    .dataframe thead th {\n",
       "        text-align: right;\n",
       "    }\n",
       "</style>\n",
       "<table border=\"1\" class=\"dataframe\">\n",
       "  <thead>\n",
       "    <tr style=\"text-align: right;\">\n",
       "      <th></th>\n",
       "      <th>trip_id</th>\n",
       "      <th>duration</th>\n",
       "      <th>start_date</th>\n",
       "      <th>start_station</th>\n",
       "      <th>start_terminal</th>\n",
       "      <th>end_date</th>\n",
       "      <th>end_station</th>\n",
       "      <th>end_terminal</th>\n",
       "      <th>bike_num</th>\n",
       "      <th>subscriber_type</th>\n",
       "      <th>zip_code</th>\n",
       "    </tr>\n",
       "  </thead>\n",
       "  <tbody>\n",
       "    <tr>\n",
       "      <th>0</th>\n",
       "      <td>431032</td>\n",
       "      <td>1648</td>\n",
       "      <td>8/29/2014 15:33</td>\n",
       "      <td>Steuart at Market</td>\n",
       "      <td>74</td>\n",
       "      <td>8/29/2014 16:00</td>\n",
       "      <td>San Francisco Caltrain (Townsend at 4th)</td>\n",
       "      <td>70</td>\n",
       "      <td>411</td>\n",
       "      <td>Subscriber</td>\n",
       "      <td>94107</td>\n",
       "    </tr>\n",
       "    <tr>\n",
       "      <th>1</th>\n",
       "      <td>383548</td>\n",
       "      <td>617</td>\n",
       "      <td>7/28/2014 17:35</td>\n",
       "      <td>Steuart at Market</td>\n",
       "      <td>74</td>\n",
       "      <td>7/28/2014 17:45</td>\n",
       "      <td>San Francisco Caltrain (Townsend at 4th)</td>\n",
       "      <td>70</td>\n",
       "      <td>259</td>\n",
       "      <td>Subscriber</td>\n",
       "      <td>94403</td>\n",
       "    </tr>\n",
       "    <tr>\n",
       "      <th>2</th>\n",
       "      <td>257887</td>\n",
       "      <td>551</td>\n",
       "      <td>4/22/2014 19:19</td>\n",
       "      <td>Post at Kearny</td>\n",
       "      <td>47</td>\n",
       "      <td>4/22/2014 19:28</td>\n",
       "      <td>South Van Ness at Market</td>\n",
       "      <td>66</td>\n",
       "      <td>414</td>\n",
       "      <td>Subscriber</td>\n",
       "      <td>94105</td>\n",
       "    </tr>\n",
       "    <tr>\n",
       "      <th>3</th>\n",
       "      <td>334581</td>\n",
       "      <td>327</td>\n",
       "      <td>6/22/2014 19:36</td>\n",
       "      <td>5th at Howard</td>\n",
       "      <td>57</td>\n",
       "      <td>6/22/2014 19:42</td>\n",
       "      <td>2nd at Folsom</td>\n",
       "      <td>62</td>\n",
       "      <td>553</td>\n",
       "      <td>Subscriber</td>\n",
       "      <td>94103</td>\n",
       "    </tr>\n",
       "    <tr>\n",
       "      <th>4</th>\n",
       "      <td>268757</td>\n",
       "      <td>382</td>\n",
       "      <td>5/1/2014 19:37</td>\n",
       "      <td>Clay at Battery</td>\n",
       "      <td>41</td>\n",
       "      <td>5/1/2014 19:44</td>\n",
       "      <td>Market at 4th</td>\n",
       "      <td>76</td>\n",
       "      <td>501</td>\n",
       "      <td>Subscriber</td>\n",
       "      <td>94612</td>\n",
       "    </tr>\n",
       "    <tr>\n",
       "      <th>5</th>\n",
       "      <td>363782</td>\n",
       "      <td>978</td>\n",
       "      <td>7/15/2014 7:45</td>\n",
       "      <td>San Francisco Caltrain (Townsend at 4th)</td>\n",
       "      <td>70</td>\n",
       "      <td>7/15/2014 8:01</td>\n",
       "      <td>Embarcadero at Vallejo</td>\n",
       "      <td>48</td>\n",
       "      <td>420</td>\n",
       "      <td>Subscriber</td>\n",
       "      <td>94025</td>\n",
       "    </tr>\n",
       "    <tr>\n",
       "      <th>6</th>\n",
       "      <td>351995</td>\n",
       "      <td>1428</td>\n",
       "      <td>7/6/2014 13:25</td>\n",
       "      <td>Embarcadero at Vallejo</td>\n",
       "      <td>48</td>\n",
       "      <td>7/6/2014 13:49</td>\n",
       "      <td>Embarcadero at Vallejo</td>\n",
       "      <td>48</td>\n",
       "      <td>408</td>\n",
       "      <td>Subscriber</td>\n",
       "      <td>94103</td>\n",
       "    </tr>\n",
       "    <tr>\n",
       "      <th>7</th>\n",
       "      <td>367842</td>\n",
       "      <td>535</td>\n",
       "      <td>7/17/2014 9:28</td>\n",
       "      <td>Harry Bridges Plaza (Ferry Building)</td>\n",
       "      <td>50</td>\n",
       "      <td>7/17/2014 9:37</td>\n",
       "      <td>2nd at Townsend</td>\n",
       "      <td>61</td>\n",
       "      <td>452</td>\n",
       "      <td>Subscriber</td>\n",
       "      <td>94579</td>\n",
       "    </tr>\n",
       "    <tr>\n",
       "      <th>8</th>\n",
       "      <td>278236</td>\n",
       "      <td>366</td>\n",
       "      <td>5/9/2014 13:51</td>\n",
       "      <td>Embarcadero at Folsom</td>\n",
       "      <td>51</td>\n",
       "      <td>5/9/2014 13:58</td>\n",
       "      <td>2nd at Townsend</td>\n",
       "      <td>61</td>\n",
       "      <td>336</td>\n",
       "      <td>Subscriber</td>\n",
       "      <td>94158</td>\n",
       "    </tr>\n",
       "    <tr>\n",
       "      <th>9</th>\n",
       "      <td>411290</td>\n",
       "      <td>766</td>\n",
       "      <td>8/16/2014 8:39</td>\n",
       "      <td>San Francisco Caltrain 2 (330 Townsend)</td>\n",
       "      <td>69</td>\n",
       "      <td>8/16/2014 8:52</td>\n",
       "      <td>Powell Street BART</td>\n",
       "      <td>39</td>\n",
       "      <td>637</td>\n",
       "      <td>Subscriber</td>\n",
       "      <td>94102</td>\n",
       "    </tr>\n",
       "  </tbody>\n",
       "</table>\n",
       "</div>"
      ],
      "text/plain": [
       "  trip_id  duration       start_date  \\\n",
       "0  431032      1648  8/29/2014 15:33   \n",
       "1  383548       617  7/28/2014 17:35   \n",
       "2  257887       551  4/22/2014 19:19   \n",
       "3  334581       327  6/22/2014 19:36   \n",
       "4  268757       382   5/1/2014 19:37   \n",
       "5  363782       978   7/15/2014 7:45   \n",
       "6  351995      1428   7/6/2014 13:25   \n",
       "7  367842       535   7/17/2014 9:28   \n",
       "8  278236       366   5/9/2014 13:51   \n",
       "9  411290       766   8/16/2014 8:39   \n",
       "\n",
       "                              start_station  start_terminal         end_date  \\\n",
       "0                         Steuart at Market              74  8/29/2014 16:00   \n",
       "1                         Steuart at Market              74  7/28/2014 17:45   \n",
       "2                            Post at Kearny              47  4/22/2014 19:28   \n",
       "3                             5th at Howard              57  6/22/2014 19:42   \n",
       "4                           Clay at Battery              41   5/1/2014 19:44   \n",
       "5  San Francisco Caltrain (Townsend at 4th)              70   7/15/2014 8:01   \n",
       "6                    Embarcadero at Vallejo              48   7/6/2014 13:49   \n",
       "7      Harry Bridges Plaza (Ferry Building)              50   7/17/2014 9:37   \n",
       "8                     Embarcadero at Folsom              51   5/9/2014 13:58   \n",
       "9   San Francisco Caltrain 2 (330 Townsend)              69   8/16/2014 8:52   \n",
       "\n",
       "                                end_station  end_terminal  bike_num  \\\n",
       "0  San Francisco Caltrain (Townsend at 4th)            70       411   \n",
       "1  San Francisco Caltrain (Townsend at 4th)            70       259   \n",
       "2                  South Van Ness at Market            66       414   \n",
       "3                             2nd at Folsom            62       553   \n",
       "4                             Market at 4th            76       501   \n",
       "5                    Embarcadero at Vallejo            48       420   \n",
       "6                    Embarcadero at Vallejo            48       408   \n",
       "7                           2nd at Townsend            61       452   \n",
       "8                           2nd at Townsend            61       336   \n",
       "9                        Powell Street BART            39       637   \n",
       "\n",
       "  subscriber_type zip_code  \n",
       "0      Subscriber    94107  \n",
       "1      Subscriber    94403  \n",
       "2      Subscriber    94105  \n",
       "3      Subscriber    94103  \n",
       "4      Subscriber    94612  \n",
       "5      Subscriber    94025  \n",
       "6      Subscriber    94103  \n",
       "7      Subscriber    94579  \n",
       "8      Subscriber    94158  \n",
       "9      Subscriber    94102  "
      ]
     },
     "execution_count": 63,
     "metadata": {},
     "output_type": "execute_result"
    }
   ],
   "source": [
    "uber_df.head(10)"
   ]
  },
  {
   "cell_type": "code",
   "execution_count": 64,
   "metadata": {},
   "outputs": [
    {
     "data": {
      "text/plain": [
       "trip_id            object\n",
       "duration            int64\n",
       "start_date         object\n",
       "start_station      object\n",
       "start_terminal      int64\n",
       "end_date           object\n",
       "end_station        object\n",
       "end_terminal        int64\n",
       "bike_num            int64\n",
       "subscriber_type    object\n",
       "zip_code           object\n",
       "dtype: object"
      ]
     },
     "execution_count": 64,
     "metadata": {},
     "output_type": "execute_result"
    }
   ],
   "source": [
    "uber_df.dtypes"
   ]
  },
  {
   "cell_type": "code",
   "execution_count": 65,
   "metadata": {},
   "outputs": [],
   "source": [
    "#convert start_date and end_date into date_time format\n",
    "uber_df['start_date'] = pd.to_datetime(uber_df['start_date'])\n",
    "uber_df['end_date'] = pd.to_datetime(uber_df['end_date'])"
   ]
  },
  {
   "cell_type": "code",
   "execution_count": 66,
   "metadata": {},
   "outputs": [],
   "source": [
    "#add new columns extracting start_hour and end_hour\n",
    "uber_df['start_hour'] = uber_df['start_date'].dt.hour\n",
    "uber_df['end_hour'] = uber_df['end_date'].dt.hour"
   ]
  },
  {
   "cell_type": "code",
   "execution_count": 67,
   "metadata": {},
   "outputs": [],
   "source": [
    "#add new columns extracting month\n",
    "uber_df['start_month'] = uber_df['start_date'].dt.strftime('%b')\n",
    "uber_df['end_month'] = uber_df['end_date'].dt.strftime('%b')"
   ]
  },
  {
   "cell_type": "code",
   "execution_count": 68,
   "metadata": {},
   "outputs": [],
   "source": [
    "#add a new column that converts duration to Hour:Minute format\n",
    "uber_df['duration_hour_min'] = pd.to_datetime(uber_df['duration'], unit='s').dt.strftime('%H:%M')"
   ]
  },
  {
   "cell_type": "code",
   "execution_count": 73,
   "metadata": {},
   "outputs": [],
   "source": [
    "uber_df = uber_df[uber_df.zip_code != 'nil']"
   ]
  },
  {
   "cell_type": "code",
   "execution_count": 74,
   "metadata": {},
   "outputs": [
    {
     "data": {
      "text/plain": [
       "88077"
      ]
     },
     "execution_count": 74,
     "metadata": {},
     "output_type": "execute_result"
    }
   ],
   "source": [
    "len(uber_df)"
   ]
  },
  {
   "cell_type": "code",
   "execution_count": null,
   "metadata": {},
   "outputs": [],
   "source": []
  }
 ],
 "metadata": {
  "kernelspec": {
   "display_name": "Python [conda env:PythonData]",
   "language": "python",
   "name": "conda-env-PythonData-py"
  },
  "language_info": {
   "codemirror_mode": {
    "name": "ipython",
    "version": 3
   },
   "file_extension": ".py",
   "mimetype": "text/x-python",
   "name": "python",
   "nbconvert_exporter": "python",
   "pygments_lexer": "ipython3",
   "version": "3.6.4"
  }
 },
 "nbformat": 4,
 "nbformat_minor": 2
}
